{
  "nbformat": 4,
  "nbformat_minor": 0,
  "metadata": {
    "colab": {
      "name": "deepfashion mask rcnn.ipynb",
      "provenance": [],
      "collapsed_sections": []
    },
    "kernelspec": {
      "name": "python3",
      "display_name": "Python 3"
    }
  },
  "cells": [
    {
      "cell_type": "code",
      "metadata": {
        "id": "-b0iaT08-s0H",
        "colab_type": "code",
        "colab": {}
      },
      "source": [
        "# # https://machinelearningmastery.com/how-to-perform-object-detection-in-photographs-with-mask-r-cnn-in-keras/\n",
        "# # https://machinelearningmastery.com/how-to-train-an-object-detection-model-with-keras/\n",
        "# # https://www.pyimagesearch.com/2018/11/19/mask-r-cnn-with-opencv/\n",
        "# # https://towardsdatascience.com/webcam-object-detection-with-mask-r-cnn-on-google-colab-b3b012053ed1\n",
        "\n",
        "# tensorflow_version 1.x\n",
        "\n",
        "\n",
        "# #change add the Mask_RCNN directory to files. \n",
        "# # example: replace 'mrcnn' with:\n",
        "# # Mask_RCNN.mrcnn\n",
        "\n",
        "# # install mask_rcnn library or it's better to upload it, with the custom files.\n",
        "# !git clone https://github.com/matterport/Mask_RCNN.git\n",
        "\n",
        "# #istall some libraries from tpu\n",
        "# #!git clone https://github.com/tensorflow/tpu/\n",
        "\n",
        "# # import libraries required for the mask_rcnn library\n",
        "# !pip3 install -r 'Mask_RCNN/requirements.txt'\n",
        "# !cd Mask_RCNN ; python setup.py install\n",
        "\n",
        "# # download the Microsoft-coco dataset, in the mask_rcnn folder \n",
        "# !cd Mask_RCNN; wget 'https://github.com/matterport/Mask_RCNN/releases/download/v2.0/mask_rcnn_coco.h5'\n",
        "\n",
        "# # download the an image of an elephant\n",
        "# !wget 'https://3qeqpr26caki16dnhd19sv6by6v-wpengine.netdna-ssl.com/wp-content/uploads/2019/03/elephant.jpg'\n",
        "\n",
        "# #download an image of a car\n",
        "# !wget 'https://i.insider.com/5d9b5bff52887931e8497a36'\n",
        "\n",
        "# # kangaroo dataset\n",
        "# !git clone https://github.com/experiencor/kangaroo.git\n",
        "# !cd\n",
        "\n",
        "# !unzip '/content/drive/My Drive/machinelearningdataset/DeepFashion2.zip'\n",
        "# print('')\n",
        "# print('')\n",
        "# print ('###################################all done###################################')"
      ],
      "execution_count": 0,
      "outputs": []
    },
    {
      "cell_type": "code",
      "metadata": {
        "id": "c_Lv55cZ_YKk",
        "colab_type": "code",
        "colab": {}
      },
      "source": [
        "# # unzip deepfashion2 \n",
        "# # there's a file download limit for files from google drive. switch between the shared files from\n",
        "# # deepfashion2 and the files saved on the drive\n",
        "\n",
        "# #shared deepfashion2 dataset.\n",
        "# #!unzip -P 2019Deepfashion2** '/content/drive/My Drive/DeepFashion2 Dataset/json_for_validation.zip'\n",
        "\n",
        "# #  deepfashion2 dataset saved on google drive\n",
        "# !unzip -P 2019Deepfashion2** '/content/drive/My Drive/machinelearningdataset/json_for_validation.zip'\n",
        "# print('\\n','##########################done upzipping files.###########################################')\n",
        "# !unzip -P 2019Deepfashion2** '/content/drive/My Drive/machinelearningdataset/test.zip'\n",
        "# print('\\n','##########################done upzipping test files.###########################################')\n",
        "# !unzip -P 2019Deepfashion2** '/content/drive/My Drive/machinelearningdataset/train.zip'\n",
        "# print('\\n','##########################done upzipping train files.###########################################')\n",
        "# !unzip -P 2019Deepfashion2** '/content/drive/My Drive/machinelearningdataset/validation.zip'\n",
        "# print('\\n','##########################done upzipping validation files.###########################################')\n"
      ],
      "execution_count": 0,
      "outputs": []
    },
    {
      "cell_type": "code",
      "execution_count": 32,
      "metadata": {},
      "outputs": [
        {
          "output_type": "stream",
          "name": "stdout",
          "text": "Requirement already up-to-date: pip in /Users/ibrahim/.platformio/penv/lib/python3.7/site-packages (20.0.2)\nPackage                       Version  \n----------------------------- ---------\nabsl-py                       0.9.0    \nalabaster                     0.7.12   \nappnope                       0.1.0    \nastor                         0.8.1    \nattrs                         19.3.0   \nBabel                         2.8.0    \nbackcall                      0.1.0    \nbleach                        3.1.4    \nbottle                        0.12.17  \ncertifi                       2019.9.11\nchardet                       3.0.4    \nClick                         7.0      \ncolorama                      0.4.1    \ncycler                        0.10.0   \nCython                        0.29.16  \ndecorator                     4.4.2    \ndefusedxml                    0.6.0    \ndocutils                      0.16     \nentrypoints                   0.3      \ngast                          0.2.2    \ngoogle-pasta                  0.2.0    \ngrpcio                        1.27.2   \nh5py                          2.10.0   \nidna                          2.8      \nimageio                       2.8.0    \nimagesize                     1.2.0    \nimgaug                        0.4.0    \nimportlib-metadata            1.6.0    \nipykernel                     5.2.0    \nipyparallel                   6.2.4    \nipython                       7.13.0   \nipython-genutils              0.2.0    \nipywidgets                    7.5.1    \njedi                          0.16.0   \nJinja2                        2.11.1   \njsonschema                    3.2.0    \njupyter-client                6.1.2    \njupyter-core                  4.6.3    \nKeras                         2.2.5    \nKeras-Applications            1.0.8    \nKeras-Preprocessing           1.1.0    \nkiwisolver                    1.2.0    \nMarkdown                      3.2.1    \nMarkupSafe                    1.1.1    \nmarshmallow                   2.20.5   \nmatplotlib                    3.2.1    \nmistune                       0.8.4    \nnbconvert                     5.6.1    \nnbformat                      5.0.5    \nnetworkx                      2.4      \nnose                          1.3.7    \nnotebook                      6.0.3    \nnumpy                         1.18.2   \nopencv-python                 4.2.0.32 \nopt-einsum                    3.2.0    \npackaging                     20.3     \npandocfilters                 1.4.2    \nparso                         0.6.2    \npexpect                       4.8.0    \npickleshare                   0.7.5    \nPillow                        7.1.0    \npip                           20.0.2   \nplatformio                    4.3.1    \nprometheus-client             0.7.1    \nprompt-toolkit                3.0.5    \nprotobuf                      3.11.3   \nptyprocess                    0.6.0    \npyelftools                    0.25     \nPygments                      2.6.1    \npyparsing                     2.4.6    \npyrsistent                    0.16.0   \npyserial                      3.4      \npython-dateutil               2.8.1    \npytz                          2019.3   \nPyWavelets                    1.1.1    \nPyYAML                        5.3.1    \npyzmq                         19.0.0   \nqtconsole                     4.7.2    \nQtPy                          1.9.0    \nrequests                      2.22.0   \nscikit-image                  0.16.2   \nscipy                         1.4.1    \nsemantic-version              2.8.3    \nSend2Trash                    1.5.0    \nsetuptools                    46.1.3   \nShapely                       1.7.0    \nsix                           1.14.0   \nsnowballstemmer               2.0.0    \nSphinx                        2.4.4    \nsphinxcontrib-applehelp       1.0.2    \nsphinxcontrib-devhelp         1.0.2    \nsphinxcontrib-htmlhelp        1.0.3    \nsphinxcontrib-jsmath          1.0.1    \nsphinxcontrib-qthelp          1.0.3    \nsphinxcontrib-serializinghtml 1.1.4    \ntabulate                      0.8.6    \ntensorboard                   1.15.0   \ntensorflow                    1.15.0   \ntensorflow-estimator          1.15.1   \ntermcolor                     1.1.0    \nterminado                     0.8.3    \ntestpath                      0.4.4    \ntornado                       6.0.4    \ntraitlets                     4.3.3    \nurllib3                       1.25.7   \nwcwidth                       0.1.9    \nwebencodings                  0.5.1    \nWerkzeug                      1.0.1    \nwheel                         0.33.6   \nwidgetsnbextension            3.5.1    \nwrapt                         1.12.1   \nzipp                          3.1.0    \n/bin/sh: pinstall: command not found\nPackage                       Version  \n----------------------------- ---------\nabsl-py                       0.9.0    \nalabaster                     0.7.12   \nappnope                       0.1.0    \nastor                         0.8.1    \nattrs                         19.3.0   \nBabel                         2.8.0    \nbackcall                      0.1.0    \nbleach                        3.1.4    \nbottle                        0.12.17  \ncertifi                       2019.9.11\nchardet                       3.0.4    \nClick                         7.0      \ncolorama                      0.4.1    \ncycler                        0.10.0   \nCython                        0.29.16  \ndecorator                     4.4.2    \ndefusedxml                    0.6.0    \ndocutils                      0.16     \nentrypoints                   0.3      \ngast                          0.2.2    \ngoogle-pasta                  0.2.0    \ngrpcio                        1.27.2   \nh5py                          2.10.0   \nidna                          2.8      \nimageio                       2.8.0    \nimagesize                     1.2.0    \nimgaug                        0.4.0    \nimportlib-metadata            1.6.0    \nipykernel                     5.2.0    \nipyparallel                   6.2.4    \nipython                       7.13.0   \nipython-genutils              0.2.0    \nipywidgets                    7.5.1    \njedi                          0.16.0   \nJinja2                        2.11.1   \njsonschema                    3.2.0    \njupyter-client                6.1.2    \njupyter-core                  4.6.3    \nKeras                         2.2.5    \nKeras-Applications            1.0.8    \nKeras-Preprocessing           1.1.0    \nkiwisolver                    1.2.0    \nMarkdown                      3.2.1    \nMarkupSafe                    1.1.1    \nmarshmallow                   2.20.5   \nmatplotlib                    3.2.1    \nmistune                       0.8.4    \nnbconvert                     5.6.1    \nnbformat                      5.0.5    \nnetworkx                      2.4      \nnose                          1.3.7    \nnotebook                      6.0.3    \nnumpy                         1.18.2   \nopencv-python                 4.2.0.32 \nopt-einsum                    3.2.0    \npackaging                     20.3     \npandocfilters                 1.4.2    \nparso                         0.6.2    \npexpect                       4.8.0    \npickleshare                   0.7.5    \nPillow                        7.1.0    \npip                           20.0.2   \nplatformio                    4.3.1    \nprometheus-client             0.7.1    \nprompt-toolkit                3.0.5    \nprotobuf                      3.11.3   \nptyprocess                    0.6.0    \npyelftools                    0.25     \nPygments                      2.6.1    \npyparsing                     2.4.6    \npyrsistent                    0.16.0   \npyserial                      3.4      \npython-dateutil               2.8.1    \npytz                          2019.3   \nPyWavelets                    1.1.1    \nPyYAML                        5.3.1    \npyzmq                         19.0.0   \nqtconsole                     4.7.2    \nQtPy                          1.9.0    \nrequests                      2.22.0   \nscikit-image                  0.16.2   \nscipy                         1.4.1    \nsemantic-version              2.8.3    \nSend2Trash                    1.5.0    \nsetuptools                    46.1.3   \nShapely                       1.7.0    \nsix                           1.14.0   \nsnowballstemmer               2.0.0    \nSphinx                        2.4.4    \nsphinxcontrib-applehelp       1.0.2    \nsphinxcontrib-devhelp         1.0.2    \nsphinxcontrib-htmlhelp        1.0.3    \nsphinxcontrib-jsmath          1.0.1    \nsphinxcontrib-qthelp          1.0.3    \nsphinxcontrib-serializinghtml 1.1.4    \ntabulate                      0.8.6    \ntensorboard                   1.15.0   \ntensorflow                    1.15.0   \ntensorflow-estimator          1.15.1   \ntermcolor                     1.1.0    \nterminado                     0.8.3    \ntestpath                      0.4.4    \ntornado                       6.0.4    \ntraitlets                     4.3.3    \nurllib3                       1.25.7   \nwcwidth                       0.1.9    \nwebencodings                  0.5.1    \nWerkzeug                      1.0.1    \nwheel                         0.33.6   \nwidgetsnbextension            3.5.1    \nwrapt                         1.12.1   \nzipp                          3.1.0    \n"
        }
      ],
      "source": [
        "# create a virtual environment to run older version of tensorflow\n",
        "# mask rcnn runs on tf version 1.x\n",
        "\n",
        "# running venv on jupyter\n",
        "!python -m pip install --upgrade pip\n",
        "!python -m venv virtual_fashion\n",
        "!source virtual_fashion/bin/activate\n",
        "# !ipython kernel install --user --navirtual_fashion\n",
        "\n",
        "\n",
        "# running venv on jupyter\n",
        "!pip list\n",
        "!pinstall tf version 1.xpip install tensorflow==1.15\n",
        "!pip list\n",
        "\n",
        "#double cheking tf version. inside the venv, tf==1.15, outside, it's tf>2.0\n",
        "!python3 -c 'import tensorflow as tf; print(tf.__version__)'\n",
        "# setups related to  mask rcnn \n",
        "!pip3 install -r 'Mask_RCNN/requirements.txt'\n",
        "!cd Mask_RCNN ; python setup.py install# making sure that everything got installed properly\n",
        "!pip3 show mask-rcnn"
      ]
    },
    {
      "cell_type": "code",
      "metadata": {
        "id": "huRej0wRVl3o",
        "colab_type": "code",
        "outputId": "55781cc1-a4d0-43f9-97da-345df6e1fa01",
        "colab": {
          "base_uri": "https://localhost:8080/",
          "height": 34
        }
      },
      "source": [
        "# convert the annonations to coco-compatible\n",
        "\n",
        "# upload the custom files (visualize.py and model.py) from 7gate_folder>Mask_RCNN>mrcnn\n",
        "# replace the deepfashion2_to_coco.py file in the DeepFashion2>evalation. from 7gate folder\n",
        "import os\n",
        "import json\n",
        "import matplotlib.pyplot as plt\n",
        "\n",
        "\n",
        "img_folder_path = 'train/image'\n",
        "dirListing = os.listdir(img_folder_path)\n",
        "\n",
        "num_images= len(dirListing)\n",
        "print(num_images)\n",
        "!python DeepFashion2/evaluation/deepfashion2_to_coco.py"
      ],
      "execution_count": 45,
      "outputs": [
        {
          "output_type": "stream",
          "name": "stdout",
          "text": "191961\n/usr/local/Cellar/python/3.7.7/Frameworks/Python.framework/Versions/3.7/Resources/Python.app/Contents/MacOS/Python: can't open file 'DeepFashion2-master/evaluation/deepfashion2_to_coco.py': [Errno 2] No such file or directory\n"
        }
      ]
    },
    {
      "cell_type": "code",
      "metadata": {
        "id": "v0U9z7jrxgdG",
        "colab_type": "code",
        "outputId": "1064510a-ec97-4c6f-d220-274d96a87fb9",
        "colab": {
          "base_uri": "https://localhost:8080/",
          "height": 68
        }
      },
      "source": [
        "from os import listdir\n",
        "import numpy as np\n",
        "import json\n",
        "\n",
        "images_dir =  'train/image/'\n",
        "annotations_dir = 'train/annos/'\n",
        "count_index=0\n",
        "inner_count=0\n",
        "b_box=[]\n",
        "segmentationssss=list()\n",
        "category_id=list()\n",
        "width=list()\n",
        "height=[]\n",
        "for filename in listdir(images_dir):\n",
        "  count_index+=1\n",
        "  image_id = filename[:-4]\n",
        "  direecewdew= 'train/annos/' + image_id +'.json'\n",
        "  with open(direecewdew) as f:\n",
        "    data = f.read()\n",
        "    jsondata = json.loads(data)\n",
        "    for number in range(1,10):\n",
        "      item_number='item'+ str(number)\n",
        "      #print(item_number)\n",
        "      try:\n",
        "        b_box_iterate=jsondata.get(item_number)['bounding_box']\n",
        "        b_box.append(b_box_iterate)\n",
        "        segment=jsondata.get(item_number)['segmentation']\n",
        "        segmentationssss.append(segment)\n",
        "        category=jsondata.get(item_number)['category_id']\n",
        "        category_id.append(category)\n",
        "        w=b_box_iterate[2]\n",
        "        width.append(w)\n",
        "        h=b_box_iterate[3]\n",
        "        height.append(h)\n",
        "        img_path = images_dir + filename\n",
        "        ann_path = annotations_dir + image_id + '.json'\n",
        "        #self.add_image('dataset', image_id=image_id, path=img_path, annotation=ann_path)\n",
        "        #print(inner_count)\n",
        "        inner_count=+1\n",
        "        #print(inner_count)\n",
        "        #print(item_number)  \n",
        "      except Exception:\n",
        "        pass\n",
        "\n",
        "height=np.array(height)\n",
        "width=np.array(width)\n",
        "b_box=np.array(b_box)\n",
        "height=min(height)\n",
        "width=min(width)\n",
        "# print(count_index)\n",
        "# print(b_box)\n",
        "# print(height)\n",
        "# print(width)\n",
        "# print(segmentationssss)\n",
        "# print(category_id)\n",
        "# print(inner_count)\n",
        "\n",
        "print(len(b_box))\n",
        "print(height)\n",
        "print(int(np.mean(width)))\n",
        "\n",
        "#try it now.\n",
        "# there should be no more list eror in masks=zeroes[]"
      ],
      "execution_count": 0,
      "outputs": [
        {
          "output_type": "stream",
          "text": [
            "312186\n",
            "0\n",
            "0\n"
          ],
          "name": "stdout"
        }
      ]
    },
    {
      "cell_type": "code",
      "metadata": {
        "id": "yQKIX-76jAdk",
        "colab_type": "code",
        "colab": {}
      },
      "source": [
        "# making sure that everything got installed properly\n",
        "%tensorflow_version 1.x\n",
        "\n",
        "!pip3 show mask-rcnn"
      ],
      "execution_count": 0,
      "outputs": []
    },
    {
      "cell_type": "code",
      "metadata": {
        "id": "Q9oLkGnqEPXb",
        "colab_type": "code",
        "outputId": "a2b64a3d-917d-4068-cd3c-cfd3dfe7cd4c",
        "colab": {
          "base_uri": "https://localhost:8080/",
          "height": 34
        }
      },
      "source": [
        "from os import listdir\n",
        "import json\n",
        "import numpy as np\n",
        "from numpy import zeros\n",
        "from numpy import asarray\n",
        "from Mask_RCNN.mrcnn.utils import Dataset\n",
        "from Mask_RCNN.mrcnn.config import Config\n",
        "from Mask_RCNN.mrcnn.model import MaskRCNN\n",
        "\n",
        "\n",
        "# class that defines and loads the kangaroo dataset\n",
        "class FashionDataset(Dataset):\n",
        "  def load_dataset(self, dataset_dir, is_train=True):\n",
        "    self.add_class(\"dataset\", 1, \"fashion\")\n",
        "    images_dir =  'train/image/'\n",
        "    annotations_dir = 'train/annos/'\n",
        "    count_index=0\n",
        "    b_box=[]\n",
        "    segmentationssss=list()\n",
        "    category_id=list()\n",
        "    width=[]\n",
        "    height=[]\n",
        "    for filename in listdir(images_dir):\n",
        "      count_index+=1\n",
        "      image_id = filename[:-4]\n",
        "      direecewdew= 'train/annos/' + image_id +'.json'\n",
        "      with open(direecewdew) as f:\n",
        "        data = f.read()\n",
        "        jsondata = json.loads(data)\n",
        "        for number in range(1,10):\n",
        "          item_number='item'+ str(number)\n",
        "          try:\n",
        "            b_box_iterate=jsondata.get(item_number)['bounding_box']\n",
        "            b_box.append(b_box_iterate)\n",
        "            segment=jsondata.get(item_number)['segmentation']\n",
        "            segmentationssss.append(segment)\n",
        "            category=jsondata.get(item_number)['category_id']\n",
        "            category_id.append(category)\n",
        "            w=b_box_iterate[2]\n",
        "            width.append(w)\n",
        "            h=b_box_iterate[3]\n",
        "            height.append(h)\n",
        "            img_path = images_dir + filename\n",
        "            ann_path = annotations_dir + image_id + '.json'\n",
        "            self.add_image('dataset', image_id=image_id, path=img_path, annotation=ann_path)\n",
        "          except Exception:\n",
        "            pass\n",
        "    \n",
        "    height=np.array(height)\n",
        "    width=np.array(width)\n",
        "    b_box=np.array(b_box)\n",
        "    height=max(height)\n",
        "    width=max(width)\n",
        "\n",
        "    print(len(b_box))\n",
        "    print(height)\n",
        "    print(int(np.mean(width)))\n",
        "    return b_box, height, width , segmentationssss, category_id \n",
        "  \n",
        "\n",
        "  def load_mask(self, image_id):\n",
        "    info = self.image_info[image_id]\n",
        "    path = info['annotation']\n",
        "    b_box, segmentationssss, category_id, height, width = self.load_dataset(path)\n",
        "    print(height)\n",
        "    print(width)\n",
        "    print(len(b_box))\n",
        "    masks = zeros([height, width, len(b_box)], dtype='uint8')\n",
        "    class_ids = list()\n",
        "\n",
        "    for i in range(len(b_box)):\n",
        "      box = b_box[i]\n",
        "      row_s, row_e = box[1], box[3]\n",
        "      col_s, col_e = box[0], box[2]\n",
        "      masks[row_s:row_e, col_s:col_e, i] = 1\n",
        "      class_ids.append(self.class_names.index('fashion'))\n",
        "    return masks, asarray(class_ids, dtype='int32')\n",
        "\n",
        "  def image_reference(self, image_id):\n",
        "    info = self.image_info[image_id]\n",
        "    return info['path']\n",
        "\n"
      ],
      "execution_count": 0,
      "outputs": [
        {
          "output_type": "stream",
          "text": [
            "Using TensorFlow backend.\n"
          ],
          "name": "stderr"
        }
      ]
    },
    {
      "cell_type": "code",
      "metadata": {
        "id": "r2T4B16IdzsD",
        "colab_type": "code",
        "outputId": "783df61c-6744-4947-996f-7ae4961e6dd2",
        "colab": {
          "base_uri": "https://localhost:8080/",
          "height": 34
        }
      },
      "source": [
        "train_set = FashionDataset()\n",
        "train_set.load_dataset('fashion', is_train=True)"
      ],
      "execution_count": 0,
      "outputs": [
        {
          "output_type": "execute_result",
          "data": {
            "text/plain": [
              "([[226, 211, 526, 505], [197, 477, 594, 838]], [505, 838], [526, 594])"
            ]
          },
          "metadata": {
            "tags": []
          },
          "execution_count": 13
        }
      ]
    },
    {
      "cell_type": "code",
      "metadata": {
        "id": "dd4m_mmuJaew",
        "colab_type": "code",
        "colab": {}
      },
      "source": [
        "# define a configuration for the model\n",
        "class FashionConfig(Config):\n",
        "\t# define the name of the configuration\n",
        "\tNAME = \"fashion_cfg\"\n",
        "\t# number of classes (background + kangaroo)\n",
        "\tNUM_CLASSES = 1 + 1\n",
        "\t# number of training steps per epoch\n",
        "\tSTEPS_PER_EPOCH = 131\n",
        "\n",
        "# prepare train set\n",
        "train_set = FashionDataset()\n",
        "train_set.load_dataset('fashion', is_train=True)\n",
        "train_set.prepare()\n",
        "print('Train: %d' % len(train_set.image_ids))\n",
        "# prepare test/val set\n",
        "test_set = FashionDataset()\n",
        "test_set.load_dataset('fashion', is_train=False)\n",
        "test_set.prepare()\n",
        "print('Test: %d' % len(test_set.image_ids))\n",
        "# prepare config\n",
        "config = FashionConfig()\n",
        "config.display()\n",
        "# define the model\n",
        "model = MaskRCNN(mode='training', model_dir='./', config=config)\n",
        "# load weights (mscoco) and exclude the output layers\n",
        "\n",
        "model.load_weights('Mask_RCNN/mask_rcnn_coco.h5', by_name=True, exclude=[\"mrcnn_class_logits\", \"mrcnn_bbox_fc\",  \"mrcnn_bbox\", \"mrcnn_mask\"])\n",
        "\n",
        "# train weights (output layers or 'heads')\n",
        "# try:\n",
        "model.train(train_set, test_set, learning_rate=config.LEARNING_RATE, epochs=5, layers='heads')\n",
        "# except OSError:\n",
        "#   print('error')\n",
        "#   pass"
      ],
      "execution_count": 0,
      "outputs": []
    },
    {
      "cell_type": "code",
      "metadata": {
        "id": "s6uOJalmRIQZ",
        "colab_type": "code",
        "colab": {}
      },
      "source": [
        "print(len(train_set.load_dataset('fashion', is_train=True)))\n",
        "print(len(test_set.load_dataset('fashion', is_train=True)))"
      ],
      "execution_count": 0,
      "outputs": []
    },
    {
      "cell_type": "code",
      "metadata": {
        "id": "rLdqKNwpQSpw",
        "colab_type": "code",
        "colab": {}
      },
      "source": [
        ""
      ],
      "execution_count": 0,
      "outputs": []
    }
  ]
}